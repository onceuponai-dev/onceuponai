{
 "cells": [
  {
   "cell_type": "code",
   "execution_count": null,
   "id": "be782921-75cb-4291-8286-433efa40376d",
   "metadata": {
    "editable": true,
    "slideshow": {
     "slide_type": "slide"
    },
    "tags": []
   },
   "outputs": [],
   "source": [
    "%cd /home/jovyan/onceuponai/websites/src/stories-fantasy-shop-assistant/notebooks\n",
    "from IPython.core.display import HTML\n",
    "HTML(\"\"\"\n",
    "<link rel=\"stylesheet\" type=\"text/css\" href=\"//fonts.googleapis.com/css?family=Bangers\" />\n",
    "<style>\n",
    "h1 {font-family: Bangers !important; font-size: 150px !important}\n",
    "h2 {font-family: Bangers !important; font-size: 120px !important}\n",
    "h3 {font-family: Bangers !important; font-size: 100px !important}\n",
    "h4 {font-family: Bangers !important; font-size: 80px !important}\n",
    "h5 {font-family: Bangers !important; font-size: 50px !important}\n",
    "h6 {font-family: Bangers !important; font-size: 30px !important}\n",
    ".txt7 {font-family: Bangers !important; font-size: 70px !important}\n",
    ".txt6 {font-family: Bangers !important; font-size: 60px !important}\n",
    ".txt5 {font-family: Bangers !important; font-size: 50px !important}\n",
    ".txt4 {font-family: Bangers !important; font-size: 40px !important}\n",
    ".txt3 {font-family: Bangers !important; font-size: 30px !important}\n",
    ".cap {font-family: Bangers !important; font-size: 30px !important}\n",
    ".controls\n",
    "{\n",
    "    display: none !important;\n",
    "}\n",
    "\n",
    ".slide-number\n",
    "{\n",
    "    display: none !important;\n",
    "}\n",
    ".inline-block {\n",
    "   display: inline-block;\n",
    "}\n",
    "\n",
    ".backgrounds {\n",
    "   background-color: #fff !important;\n",
    "}\n",
    "\n",
    ".controls {\n",
    "  display: none !important;\n",
    "}\n",
    "</style>\n",
    "\"\"\")\n",
    "\n",
    "import pandas as pd\n",
    "pd.set_option('display.max_colwidth', None)\n",
    "import warnings\n",
    "warnings.filterwarnings('ignore')"
   ]
  },
  {
   "cell_type": "code",
   "execution_count": null,
   "id": "516c694b-f90f-4122-a3bd-ea203668467a",
   "metadata": {},
   "outputs": [],
   "source": [
    "!pip install deltalake polars"
   ]
  },
  {
   "cell_type": "markdown",
   "id": "0c8cbcfd-4e92-4812-9bf6-681e46484e03",
   "metadata": {},
   "source": [
    "# Prepare data"
   ]
  },
  {
   "cell_type": "code",
   "execution_count": null,
   "id": "6cf1553b-8d8d-44fc-92a7-e8e8ca81f752",
   "metadata": {
    "editable": true,
    "slideshow": {
     "slide_type": "slide"
    },
    "tags": []
   },
   "outputs": [],
   "source": [
    "import yaml\n",
    "from deltalake.writer import write_deltalake\n",
    "import pandas as pd\n",
    "import polars as pl\n",
    "\n",
    "data = yaml.safe_load(open(\"recipes.yaml\", \"r\"))\n",
    "\n",
    "prep={}\n",
    "\n",
    "\n",
    "df = pl.DataFrame(data[\"Recipes\"])\n",
    "df.to_pandas()"
   ]
  },
  {
   "cell_type": "markdown",
   "id": "f194e935-6820-45a9-b132-fb639d40fa46",
   "metadata": {
    "editable": true,
    "slideshow": {
     "slide_type": "skip"
    },
    "tags": []
   },
   "source": [
    "# Embeddings"
   ]
  },
  {
   "cell_type": "code",
   "execution_count": null,
   "id": "6d1e88ba-8ee2-47bf-8e20-462c662dbd1d",
   "metadata": {
    "editable": true,
    "slideshow": {
     "slide_type": "slide"
    },
    "tags": []
   },
   "outputs": [],
   "source": [
    "import adventures\n",
    "\n",
    "a = adventures.Adventures(\"intfloat/multilingual-e5-small\")"
   ]
  },
  {
   "cell_type": "code",
   "execution_count": null,
   "id": "25ae0faa-b38d-4916-9d47-37687c26b084",
   "metadata": {
    "editable": true,
    "scrolled": true,
    "slideshow": {
     "slide_type": "fragment"
    },
    "tags": []
   },
   "outputs": [],
   "source": [
    "a.embeddings([\"witaj przygodo\"])"
   ]
  },
  {
   "cell_type": "code",
   "execution_count": null,
   "id": "75152546-fd90-44e1-a0b4-cdbf95e76603",
   "metadata": {
    "editable": true,
    "scrolled": true,
    "slideshow": {
     "slide_type": "slide"
    },
    "tags": []
   },
   "outputs": [],
   "source": [
    "items = []\n",
    "for combined_text in df['Recipe']:\n",
    "    emb = a.embeddings([combined_text])\n",
    "    items.append({\"item\": combined_text, \"vector\": emb[0]})\n",
    "\n",
    "items"
   ]
  },
  {
   "cell_type": "markdown",
   "id": "08d7f0b3-ea5f-4931-b127-66db2f7d7190",
   "metadata": {
    "editable": true,
    "slideshow": {
     "slide_type": "skip"
    },
    "tags": []
   },
   "source": [
    "# Fake words"
   ]
  },
  {
   "cell_type": "code",
   "execution_count": null,
   "id": "d3fc16c3-cecc-4252-9bf7-d2bea06e841d",
   "metadata": {
    "editable": true,
    "slideshow": {
     "slide_type": "slide"
    },
    "tags": []
   },
   "outputs": [],
   "source": [
    "import random\n",
    "\n",
    "subjects = [\n",
    "    \"The mischievous squirrel\", \"The colorful birds\", \"The playful puppies\", \n",
    "    \"The dedicated teacher\", \"The curious boy\", \"The brilliant inventor\", \"Girl\", \"Cat\", \"Mouse\", \"Dog\"\n",
    "]\n",
    "\n",
    "verbs = [\n",
    "    \"danced\", \"explored\", \"built\", \"discovered\", \"imagined\", \n",
    "    \"sang\", \"cooked\", \"programmed\",\"run\", \"sing\", \"walk\", \n",
    "]\n",
    "\n",
    "objects = [\"the sandwich\", \"a brilliant app\", \"over the fence\", \"a beautiful song\", \"in the sky\"]\n",
    "\n",
    "for i in range(300):\n",
    "    phrase = random.choice(subjects) + \" \" + random.choice(verbs) + \" \" + random.choice(objects)\n",
    "    emb = a.embeddings([phrase])\n",
    "    items.append({\"item\": phrase, \"vector\": emb[0]})"
   ]
  },
  {
   "cell_type": "markdown",
   "id": "edd93d26-5894-4fa1-b0be-5fc6227d7c26",
   "metadata": {
    "editable": true,
    "slideshow": {
     "slide_type": "skip"
    },
    "tags": []
   },
   "source": [
    "# Lance DB"
   ]
  },
  {
   "cell_type": "code",
   "execution_count": null,
   "id": "982fc86c-695c-4e6c-9663-f6fb08347b0f",
   "metadata": {
    "scrolled": true
   },
   "outputs": [],
   "source": [
    "import os\n",
    "import getpass\n",
    "\n",
    "print(\"ACCOUNT NAME\")\n",
    "os.environ[\"AZURE_STORAGE_ACCOUNT_NAME\"]=getpass.getpass()\n",
    "\n",
    "print(\"ACCOUNT KEY\")\n",
    "os.environ[\"AZURE_STORAGE_ACCOUNT_KEY\"]=getpass.getpass()"
   ]
  },
  {
   "cell_type": "code",
   "execution_count": null,
   "id": "9019bbde-6f6d-433c-a233-933b97d47c1d",
   "metadata": {},
   "outputs": [],
   "source": [
    "import getpass\n",
    "import lancedb\n",
    "\n",
    "db = await lancedb.connect_async(\"az://recipesv2/vectors\")\n",
    "tbl = await db.create_table(\"recipes_vectors\", data=items)"
   ]
  },
  {
   "cell_type": "code",
   "execution_count": null,
   "id": "538463f3-a8ee-4067-ab01-29e95b635df9",
   "metadata": {
    "scrolled": true
   },
   "outputs": [],
   "source": [
    "res = await tbl.create_index(\"vector\")"
   ]
  },
  {
   "cell_type": "markdown",
   "id": "d9041394-d5c5-437d-bbcb-6949df8e3ebf",
   "metadata": {
    "editable": true,
    "slideshow": {
     "slide_type": "skip"
    },
    "tags": []
   },
   "source": [
    "# Search"
   ]
  },
  {
   "cell_type": "code",
   "execution_count": null,
   "id": "4349416f-d45c-4f2e-bb61-6ce15e76b96a",
   "metadata": {
    "editable": true,
    "scrolled": true,
    "slideshow": {
     "slide_type": "slide"
    },
    "tags": []
   },
   "outputs": [],
   "source": [
    "import lancedb\n",
    "\n",
    "emb = a.embeddings([\"Chciałbym zrobić żurek\"])\n",
    "\n",
    "tbl = await db.open_table(\"recipes_vectors\")\n",
    "res = await tbl.query().nearest_to(emb[0]).limit(1).to_pandas()\n",
    "res"
   ]
  }
 ],
 "metadata": {
  "kernelspec": {
   "display_name": "Python 3 (ipykernel)",
   "language": "python",
   "name": "python3"
  },
  "language_info": {
   "codemirror_mode": {
    "name": "ipython",
    "version": 3
   },
   "file_extension": ".py",
   "mimetype": "text/x-python",
   "name": "python",
   "nbconvert_exporter": "python",
   "pygments_lexer": "ipython3",
   "version": "3.10.12"
  }
 },
 "nbformat": 4,
 "nbformat_minor": 5
}
