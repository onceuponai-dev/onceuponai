{
 "cells": [
  {
   "cell_type": "code",
   "execution_count": null,
   "id": "be782921-75cb-4291-8286-433efa40376d",
   "metadata": {
    "editable": true,
    "slideshow": {
     "slide_type": "slide"
    },
    "tags": []
   },
   "outputs": [],
   "source": [
    "%cd /home/jovyan/onceuponai/websites/src/stories-fantasy-shop-assistant/notebooks\n",
    "from IPython.core.display import HTML\n",
    "HTML(\"\"\"\n",
    "<link rel=\"stylesheet\" type=\"text/css\" href=\"//fonts.googleapis.com/css?family=Bangers\" />\n",
    "<style>\n",
    "h1 {font-family: Bangers !important; font-size: 150px !important}\n",
    "h2 {font-family: Bangers !important; font-size: 120px !important}\n",
    "h3 {font-family: Bangers !important; font-size: 100px !important}\n",
    "h4 {font-family: Bangers !important; font-size: 80px !important}\n",
    "h5 {font-family: Bangers !important; font-size: 50px !important}\n",
    "h6 {font-family: Bangers !important; font-size: 30px !important}\n",
    ".txt7 {font-family: Bangers !important; font-size: 70px !important}\n",
    ".txt6 {font-family: Bangers !important; font-size: 60px !important}\n",
    ".txt5 {font-family: Bangers !important; font-size: 50px !important}\n",
    ".txt4 {font-family: Bangers !important; font-size: 40px !important}\n",
    ".txt3 {font-family: Bangers !important; font-size: 30px !important}\n",
    ".cap {font-family: Bangers !important; font-size: 30px !important}\n",
    ".controls\n",
    "{\n",
    "    display: none !important;\n",
    "}\n",
    "\n",
    ".slide-number\n",
    "{\n",
    "    display: none !important;\n",
    "}\n",
    ".inline-block {\n",
    "   display: inline-block;\n",
    "}\n",
    "\n",
    ".backgrounds {\n",
    "   background-color: #fff !important;\n",
    "}\n",
    "\n",
    ".controls {\n",
    "  display: none !important;\n",
    "}\n",
    "</style>\n",
    "\"\"\")\n",
    "\n",
    "import pandas as pd\n",
    "pd.set_option('display.max_colwidth', None)\n",
    "import warnings\n",
    "warnings.filterwarnings('ignore')"
   ]
  },
  {
   "cell_type": "code",
   "execution_count": null,
   "id": "516c694b-f90f-4122-a3bd-ea203668467a",
   "metadata": {
    "editable": true,
    "slideshow": {
     "slide_type": "slide"
    },
    "tags": []
   },
   "outputs": [],
   "source": [
    "!pip install deltalake polars"
   ]
  },
  {
   "cell_type": "markdown",
   "id": "963e5ffb-4ff9-4635-b306-2dcb2b537c86",
   "metadata": {},
   "source": [
    "# LLMs"
   ]
  },
  {
   "cell_type": "code",
   "execution_count": null,
   "id": "90f0a283-9e92-430e-8e9d-061b22d2ed47",
   "metadata": {
    "editable": true,
    "slideshow": {
     "slide_type": "slide"
    },
    "tags": []
   },
   "outputs": [],
   "source": [
    "import onceuponai\n",
    "\n",
    "bielik = onceuponai.llms.Quantized(\"speakleash/Bielik-7B-Instruct-v0.1-GGUF\", \\\n",
    "                              \"bielik-7b-instruct-v0.1.Q4_K_S.gguf\", \\\n",
    "                              \"speakleash/Bielik-7B-Instruct-v0.1\", \"cuda\")"
   ]
  },
  {
   "cell_type": "code",
   "execution_count": 6,
   "id": "7ddeaecc-2a37-4afa-8a06-688303b903dd",
   "metadata": {
    "editable": true,
    "slideshow": {
     "slide_type": ""
    },
    "tags": []
   },
   "outputs": [],
   "source": [
    "import onceuponai\n",
    "\n",
    "bielik = onceuponai.llms.Quantized(\"speakleash/Bielik-7B-Instruct-v0.1-GGUF\", \\\n",
    "                              \"file:///home/jovyan/rust-src/Bielik/Bielik-7B-Instruct-v0.1.Q4_K_S.gguf\", \\\n",
    "                              \"speakleash/Bielik-7B-Instruct-v0.1\", \"cuda\")"
   ]
  },
  {
   "cell_type": "code",
   "execution_count": null,
   "id": "a986f019-1f4a-40a6-8304-6a8492dce82e",
   "metadata": {
    "editable": true,
    "slideshow": {
     "slide_type": "fragment"
    },
    "tags": []
   },
   "outputs": [],
   "source": [
    "res = await bielik.invoke(\"Jak ugotować żurek ?\", 1000)\n",
    "res"
   ]
  },
  {
   "cell_type": "code",
   "execution_count": null,
   "id": "253a56f4-a4f7-4c99-8d81-47d31d7cece4",
   "metadata": {
    "editable": true,
    "slideshow": {
     "slide_type": "slide"
    },
    "tags": []
   },
   "outputs": [],
   "source": [
    "import onceuponai\n",
    "\n",
    "krakowiak = onceuponai.llms.Quantized(\"szymonrucinski/Krakowiak-7B-v2\", \\\n",
    "                              \"file:///home/jovyan/rust-src/Bielik/Krakowiak-7B-v2.Q4_K_S.gguf\", \\\n",
    "                              \"szymonrucinski/Krakowiak-7B-v2\", \"cuda\")"
   ]
  },
  {
   "cell_type": "code",
   "execution_count": null,
   "id": "9324e69b-e7f4-46c0-9624-75c0b6721a09",
   "metadata": {
    "editable": true,
    "slideshow": {
     "slide_type": "fragment"
    },
    "tags": []
   },
   "outputs": [],
   "source": [
    "res = await krakowiak.invoke(\"Jak ugotować żurek ?\", 1000)\n",
    "res"
   ]
  },
  {
   "cell_type": "code",
   "execution_count": null,
   "id": "008e53e8-a402-416e-a2a3-ec7cccad5f93",
   "metadata": {
    "editable": true,
    "slideshow": {
     "slide_type": "slide"
    },
    "tags": []
   },
   "outputs": [],
   "source": [
    "import onceuponai\n",
    "\n",
    "curie = onceuponai.llms.Quantized(\"szymonrucinski/Curie-7B-v1\", \\\n",
    "                              \"file:///home/jovyan/rust-src/Bielik/Curie-7B-v1.Q3_K.gguf\", \\\n",
    "                              \"szymonrucinski/Curie-7B-v1\", \"cuda\")"
   ]
  },
  {
   "cell_type": "code",
   "execution_count": null,
   "id": "ce30c77a-24a6-4fea-9fde-aff653196984",
   "metadata": {
    "editable": true,
    "slideshow": {
     "slide_type": "fragment"
    },
    "tags": []
   },
   "outputs": [],
   "source": [
    "res = await curie.invoke(\"Jak ugotować rosół ?\", 1000)\n",
    "res"
   ]
  },
  {
   "cell_type": "code",
   "execution_count": null,
   "id": "adb91b6c-f2be-4a5c-8254-b9b3af6f0ae5",
   "metadata": {
    "editable": true,
    "slideshow": {
     "slide_type": "slide"
    },
    "tags": []
   },
   "outputs": [],
   "source": [
    "import onceuponai\n",
    "\n",
    "await onceuponai.sleep(2)"
   ]
  },
  {
   "cell_type": "markdown",
   "id": "7d25bea4-1abf-401a-8756-af0e993ecb50",
   "metadata": {
    "editable": true,
    "slideshow": {
     "slide_type": "slide"
    },
    "tags": []
   },
   "source": [
    "## Prepare data"
   ]
  },
  {
   "cell_type": "code",
   "execution_count": null,
   "id": "6cf1553b-8d8d-44fc-92a7-e8e8ca81f752",
   "metadata": {
    "editable": true,
    "slideshow": {
     "slide_type": ""
    },
    "tags": []
   },
   "outputs": [],
   "source": [
    "import yaml\n",
    "from deltalake.writer import write_deltalake\n",
    "import pandas as pd\n",
    "import polars as pl\n",
    "\n",
    "data = yaml.safe_load(open(\"recipes.yaml\", \"r\"))\n",
    "\n",
    "prep={}\n",
    "\n",
    "\n",
    "df = pl.DataFrame(data[\"Recipes\"])\n",
    "df.to_pandas()"
   ]
  },
  {
   "cell_type": "markdown",
   "id": "a2cdd21f-6145-4ac9-a62d-05abf66a8f9d",
   "metadata": {
    "editable": true,
    "slideshow": {
     "slide_type": "slide"
    },
    "tags": []
   },
   "source": [
    "# Embeddings"
   ]
  },
  {
   "cell_type": "code",
   "execution_count": 2,
   "id": "6d1e88ba-8ee2-47bf-8e20-462c662dbd1d",
   "metadata": {
    "editable": true,
    "slideshow": {
     "slide_type": ""
    },
    "tags": []
   },
   "outputs": [],
   "source": [
    "import onceuponai\n",
    "\n",
    "a = onceuponai.embeddings.E5(\"intfloat/multilingual-e5-small\")"
   ]
  },
  {
   "cell_type": "code",
   "execution_count": null,
   "id": "25ae0faa-b38d-4916-9d47-37687c26b084",
   "metadata": {
    "editable": true,
    "scrolled": true,
    "slideshow": {
     "slide_type": "fragment"
    },
    "tags": []
   },
   "outputs": [],
   "source": [
    "a.embed([\"witaj przygodo\"])"
   ]
  },
  {
   "cell_type": "code",
   "execution_count": null,
   "id": "75152546-fd90-44e1-a0b4-cdbf95e76603",
   "metadata": {
    "editable": true,
    "scrolled": true,
    "slideshow": {
     "slide_type": "slide"
    },
    "tags": []
   },
   "outputs": [],
   "source": [
    "items = []\n",
    "for combined_text in df['Recipe']:\n",
    "    emb = a.embed([combined_text])\n",
    "    items.append({\"item\": combined_text, \"vector\": emb[0]})\n",
    "\n",
    "items"
   ]
  },
  {
   "cell_type": "markdown",
   "id": "08d7f0b3-ea5f-4931-b127-66db2f7d7190",
   "metadata": {
    "editable": true,
    "slideshow": {
     "slide_type": "skip"
    },
    "tags": []
   },
   "source": [
    "# Fake words"
   ]
  },
  {
   "cell_type": "code",
   "execution_count": null,
   "id": "d3fc16c3-cecc-4252-9bf7-d2bea06e841d",
   "metadata": {
    "editable": true,
    "slideshow": {
     "slide_type": "slide"
    },
    "tags": []
   },
   "outputs": [],
   "source": [
    "import random\n",
    "\n",
    "subjects = [\n",
    "    \"The mischievous squirrel\", \"The colorful birds\", \"The playful puppies\", \n",
    "    \"The dedicated teacher\", \"The curious boy\", \"The brilliant inventor\", \"Girl\", \"Cat\", \"Mouse\", \"Dog\"\n",
    "]\n",
    "\n",
    "verbs = [\n",
    "    \"danced\", \"explored\", \"built\", \"discovered\", \"imagined\", \n",
    "    \"sang\", \"cooked\", \"programmed\",\"run\", \"sing\", \"walk\", \n",
    "]\n",
    "\n",
    "objects = [\"the sandwich\", \"a brilliant app\", \"over the fence\", \"a beautiful song\", \"in the sky\"]\n",
    "\n",
    "for i in range(300):\n",
    "    phrase = random.choice(subjects) + \" \" + random.choice(verbs) + \" \" + random.choice(objects)\n",
    "    emb = a.embed([phrase])\n",
    "    items.append({\"item\": phrase, \"vector\": emb[0]})"
   ]
  },
  {
   "cell_type": "markdown",
   "id": "edd93d26-5894-4fa1-b0be-5fc6227d7c26",
   "metadata": {
    "editable": true,
    "slideshow": {
     "slide_type": "slide"
    },
    "tags": []
   },
   "source": [
    "# Lance DB"
   ]
  },
  {
   "cell_type": "code",
   "execution_count": null,
   "id": "982fc86c-695c-4e6c-9663-f6fb08347b0f",
   "metadata": {
    "editable": true,
    "scrolled": true,
    "slideshow": {
     "slide_type": ""
    },
    "tags": []
   },
   "outputs": [],
   "source": [
    "import os\n",
    "import getpass\n",
    "\n",
    "print(\"ACCOUNT NAME\")\n",
    "os.environ[\"AZURE_STORAGE_ACCOUNT_NAME\"]=getpass.getpass()\n",
    "\n",
    "print(\"ACCOUNT KEY\")\n",
    "os.environ[\"AZURE_STORAGE_ACCOUNT_KEY\"]=getpass.getpass()"
   ]
  },
  {
   "cell_type": "code",
   "execution_count": null,
   "id": "9019bbde-6f6d-433c-a233-933b97d47c1d",
   "metadata": {
    "editable": true,
    "slideshow": {
     "slide_type": "fragment"
    },
    "tags": []
   },
   "outputs": [],
   "source": [
    "import lancedb\n",
    "\n",
    "db = await lancedb.connect_async(\"az://recipesv2/vectors2\")\n",
    "tbl = await db.create_table(\"recipes_vectors\", data=items)"
   ]
  },
  {
   "cell_type": "code",
   "execution_count": null,
   "id": "538463f3-a8ee-4067-ab01-29e95b635df9",
   "metadata": {
    "editable": true,
    "scrolled": true,
    "slideshow": {
     "slide_type": "fragment"
    },
    "tags": []
   },
   "outputs": [],
   "source": [
    "res = await tbl.create_index(\"vector\")"
   ]
  },
  {
   "cell_type": "markdown",
   "id": "d9041394-d5c5-437d-bbcb-6949df8e3ebf",
   "metadata": {
    "editable": true,
    "slideshow": {
     "slide_type": "slide"
    },
    "tags": []
   },
   "source": [
    "# Search"
   ]
  },
  {
   "cell_type": "code",
   "execution_count": null,
   "id": "4349416f-d45c-4f2e-bb61-6ce15e76b96a",
   "metadata": {
    "editable": true,
    "scrolled": true,
    "slideshow": {
     "slide_type": "fragment"
    },
    "tags": []
   },
   "outputs": [],
   "source": [
    "import lancedb\n",
    "\n",
    "emb = a.embed([\"Chciałbym zrobić żurek\"])\n",
    "db = await lancedb.connect_async(\"az://recipesv2/vectors2\")\n",
    "tbl = await db.open_table(\"recipes_vectors\")\n",
    "res = await tbl.query().nearest_to(emb[0]).limit(1).to_pandas()\n",
    "res"
   ]
  },
  {
   "cell_type": "code",
   "execution_count": null,
   "id": "ae4161c9-b541-4e8e-8053-71a714cbad31",
   "metadata": {
    "editable": true,
    "slideshow": {
     "slide_type": ""
    },
    "tags": []
   },
   "outputs": [],
   "source": [
    "import lancedb\n",
    "\n",
    "db = await lancedb.connect_async(\"az://recipesv2/vectors2\")\n",
    "tbl = await db.open_table(\"recipes_vectors\")\n",
    "template = \"\"\"[INST]Skorzystaj z poniższych fragmentów kontekstu, aby odpowiedzieć na pytanie na końcu. \n",
    "Jeśli nie znasz odpowiedzi, po prostu powiedz, że nie wiesz, nie próbuj wymyślać odpowiedzi. \n",
    "\n",
    "Kontekst: \n",
    "{context}\n",
    "\n",
    "Pytanie:\n",
    "{question}[/INST]\"\"\"\n",
    "\n",
    "async def chat(lancedb_table, prompt_template, embedding_model, llm_model, prompt):\n",
    "    emb = embedding_model.embed([prompt])\n",
    "    res = await lancedb_table.query().nearest_to(emb[0]).limit(1).to_pandas()\n",
    "    context = res.to_dict()[\"item\"][0]\n",
    "    prompt = prompt_template.replace(\"{context}\", context).replace(\"{question}\", prompt)\n",
    "    return await llm_model.invoke(prompt, 1000)\n",
    "    "
   ]
  },
  {
   "cell_type": "code",
   "execution_count": null,
   "id": "30f9ef44-c364-468c-a5e0-bb3e7ed019f7",
   "metadata": {
    "editable": true,
    "slideshow": {
     "slide_type": "slide"
    },
    "tags": []
   },
   "outputs": [],
   "source": [
    "await chat(tbl, template, a, bielik, \"Jak ugotować żurek ?\")"
   ]
  },
  {
   "cell_type": "code",
   "execution_count": null,
   "id": "a7cb4762-d90e-4bf2-a19f-c55f055b5282",
   "metadata": {
    "editable": true,
    "slideshow": {
     "slide_type": "slide"
    },
    "tags": []
   },
   "outputs": [],
   "source": [
    "await chat(tbl, template, a, bielik, \"W jakiej temperaturze należy piec rybę ?\")"
   ]
  },
  {
   "cell_type": "code",
   "execution_count": null,
   "id": "34d59e12-3f62-425d-961e-9faa3b78d744",
   "metadata": {
    "editable": true,
    "slideshow": {
     "slide_type": "slide"
    },
    "tags": []
   },
   "outputs": [],
   "source": [
    "await chat(tbl, template, a, bielik, \"Ile czasu trzeba piec kaczkę ?\")"
   ]
  },
  {
   "cell_type": "code",
   "execution_count": null,
   "id": "0ddb6eba-9bca-4536-a27b-eb9f79c64b4a",
   "metadata": {
    "editable": true,
    "slideshow": {
     "slide_type": ""
    },
    "tags": []
   },
   "outputs": [],
   "source": []
  },
  {
   "cell_type": "code",
   "execution_count": null,
   "id": "691107cd-5b4f-49c6-a962-6b888086fd4b",
   "metadata": {},
   "outputs": [],
   "source": [
    "import requests\n",
    "import json\n",
    "\n",
    "english_text = json.dumps('{\"text\": \"Jak ugotować żurek ?\"}')\n",
    "\n",
    "response = requests.post(\"http://127.0.0.1:9090/\", json=english_text)\n",
    "french_text = response.text\n",
    "\n",
    "print(french_text)"
   ]
  }
 ],
 "metadata": {
  "kernelspec": {
   "display_name": "Python 3 (ipykernel)",
   "language": "python",
   "name": "python3"
  },
  "language_info": {
   "codemirror_mode": {
    "name": "ipython",
    "version": 3
   },
   "file_extension": ".py",
   "mimetype": "text/x-python",
   "name": "python",
   "nbconvert_exporter": "python",
   "pygments_lexer": "ipython3",
   "version": "3.10.12"
  }
 },
 "nbformat": 4,
 "nbformat_minor": 5
}
