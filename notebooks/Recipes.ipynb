{
 "cells": [
  {
   "cell_type": "code",
   "execution_count": 26,
   "id": "be782921-75cb-4291-8286-433efa40376d",
   "metadata": {
    "editable": true,
    "slideshow": {
     "slide_type": "slide"
    },
    "tags": []
   },
   "outputs": [
    {
     "name": "stdout",
     "output_type": "stream",
     "text": [
      "/home/jovyan/onceuponai/websites/src/stories-fantasy-shop-assistant/notebooks\n"
     ]
    }
   ],
   "source": [
    "%cd /home/jovyan/onceuponai/websites/src/stories-fantasy-shop-assistant/notebooks\n",
    "from IPython.core.display import HTML\n",
    "HTML(\"\"\"\n",
    "<link rel=\"stylesheet\" type=\"text/css\" href=\"//fonts.googleapis.com/css?family=Bangers\" />\n",
    "<style>\n",
    "h1 {font-family: Bangers !important; font-size: 150px !important}\n",
    "h2 {font-family: Bangers !important; font-size: 120px !important}\n",
    "h3 {font-family: Bangers !important; font-size: 100px !important}\n",
    "h4 {font-family: Bangers !important; font-size: 80px !important}\n",
    "h5 {font-family: Bangers !important; font-size: 50px !important}\n",
    "h6 {font-family: Bangers !important; font-size: 30px !important}\n",
    ".txt7 {font-family: Bangers !important; font-size: 70px !important}\n",
    ".txt6 {font-family: Bangers !important; font-size: 60px !important}\n",
    ".txt5 {font-family: Bangers !important; font-size: 50px !important}\n",
    ".txt4 {font-family: Bangers !important; font-size: 40px !important}\n",
    ".txt3 {font-family: Bangers !important; font-size: 30px !important}\n",
    ".cap {font-family: Bangers !important; font-size: 30px !important}\n",
    ".controls\n",
    "{\n",
    "    display: none !important;\n",
    "}\n",
    "\n",
    ".slide-number\n",
    "{\n",
    "    display: none !important;\n",
    "}\n",
    ".inline-block {\n",
    "   display: inline-block;\n",
    "}\n",
    "\n",
    ".backgrounds {\n",
    "   background-color: #fff !important;\n",
    "}\n",
    "\n",
    ".controls {\n",
    "  display: none !important;\n",
    "}\n",
    "</style>\n",
    "\"\"\")\n",
    "\n",
    "import pandas as pd\n",
    "pd.set_option('display.max_colwidth', None)\n",
    "import warnings\n",
    "warnings.filterwarnings('ignore')"
   ]
  },
  {
   "cell_type": "code",
   "execution_count": null,
   "id": "516c694b-f90f-4122-a3bd-ea203668467a",
   "metadata": {
    "editable": true,
    "slideshow": {
     "slide_type": "slide"
    },
    "tags": []
   },
   "outputs": [],
   "source": [
    "!pip install deltalake polars"
   ]
  },
  {
   "cell_type": "markdown",
   "id": "963e5ffb-4ff9-4635-b306-2dcb2b537c86",
   "metadata": {},
   "source": [
    "# LLMs"
   ]
  },
  {
   "cell_type": "code",
   "execution_count": 1,
   "id": "90f0a283-9e92-430e-8e9d-061b22d2ed47",
   "metadata": {},
   "outputs": [],
   "source": [
    "import onceuponai\n",
    "\n",
    "bielik = onceuponai.llms.Quantized(\"speakleash/Bielik-7B-Instruct-v0.1-GGUF\", \\\n",
    "                              \"bielik-7b-instruct-v0.1.Q4_K_S.gguf\", \\\n",
    "                              \"speakleash/Bielik-7B-Instruct-v0.1\", \"cuda\")"
   ]
  },
  {
   "cell_type": "code",
   "execution_count": 13,
   "id": "7ddeaecc-2a37-4afa-8a06-688303b903dd",
   "metadata": {},
   "outputs": [],
   "source": [
    "import onceuponai\n",
    "\n",
    "bielik = onceuponai.llms.Quantized(\"speakleash/Bielik-7B-Instruct-v0.1-GGUF\", \\\n",
    "                              \"file:///home/jovyan/rust-src/Bielik/Bielik-7B-Instruct-v0.1.Q4_K_S.gguf\", \\\n",
    "                              \"speakleash/Bielik-7B-Instruct-v0.1\", \"cuda\")"
   ]
  },
  {
   "cell_type": "code",
   "execution_count": null,
   "id": "a986f019-1f4a-40a6-8304-6a8492dce82e",
   "metadata": {},
   "outputs": [],
   "source": [
    "res = await bielik.invoke(\"Jak ugotować żurek ?\", 1000)\n",
    "res"
   ]
  },
  {
   "cell_type": "code",
   "execution_count": 1,
   "id": "253a56f4-a4f7-4c99-8d81-47d31d7cece4",
   "metadata": {},
   "outputs": [],
   "source": [
    "import onceuponai\n",
    "\n",
    "krakowiak = onceuponai.llms.Quantized(\"szymonrucinski/Krakowiak-7B-v2\", \\\n",
    "                              \"file:///home/jovyan/rust-src/Bielik/Krakowiak-7B-v2.Q4_K_S.gguf\", \\\n",
    "                              \"szymonrucinski/Krakowiak-7B-v2\", \"cuda\")"
   ]
  },
  {
   "cell_type": "code",
   "execution_count": 2,
   "id": "9324e69b-e7f4-46c0-9624-75c0b6721a09",
   "metadata": {},
   "outputs": [
    {
     "data": {
      "text/plain": [
       "'\\n groszek, krwi, cebula, koper, mięta, pietruszka, liście laurowe.\\nWiększość potraw można ugotować w domu. Dlatego teraz oferujemy Ci szczegółowy przepis na ugotowanie żurku – to jest łatwy do wykonania, ale bardzo smaczne danie.\\nDla gotowania mąki stosuj się do innej recepcji “Smażone ziemniaki” lub wystarczy włożyć 100 gram na 1 kubak żurku. Rozgnieść tłuczko między dłońmi aż uzyska ciasto.\\nWedług innych przepisów, w pierwszej kolejności rozpuścić solę ziemniaczaną w gorącej wodzie i zeskrobać skórkę żurka, ale jak już wspomniano powyżej, jest to bardzo krzywdne dla żurkowca. Uwolnij ciepło żurku przez 5 minut w lodówce – a następnie umyć go pod temperaturą wrzącej wody (ujmij) – aż wykiwka i nie zapowiada się, a następnie rozgnieść na ciasto. Jeśli masz w domu uniwersalne tłuczko, potrwa to 2 minuty, ale mogą być bardziej skomplikowane i czasochłonne niż utrzymywanie żurka na piekarniku podczas gotowania żurkowego 10 minut lub więcej. Jeśli nie masz uniwersalnego tłuczka, można to zrobić za pomocą płyty kamiennej lub naciętego korzeni krewetki i użyj uchwytu, aby pociągnąć łyżką po szczelinie między dwoma segmentami żurkowca – i to daleko lepsze niż utrzymywać ziemniaki na piekarniku.\\nGdy podnieśliśmy skorupę kokardową, skórka może być łatwo usunięta lub wyjmowana pszczelimi kłami. Następnie rozgnieść ciasto i ustaw je na gładkim dużym talerzu lub poziomej powierzchni.\\nGdy skorupa kokardowa i zimne żurki są gotowe, zrobić róże (15 min). Następnie upuść płytko żółtka surowego jajka na zewnętrzną powierzchnię skorupy kokardowej. Można to ułożyć na środku dużego talerza, żeby nie dla zagrożeń.\\nNastępnie na zewnątrz można dodać jajka surowe. Następnie zamknij go (ajlakowanie). Następnie umieść go w piekarniku na dużym talerzu z 20 centymetrami podczas gotowania żurku.\\nZamknij skorupę kokardową (toreba) i dobrze pociągnij jajka surowe. Następnie umieść go w piekarniku na dużym talerzu z 20 centymetrami podczas gotowania żurku.\\nNastępnym krokiem jest dodanie do skorupy, środkowego żółtka surowego jajka i żurka mając około 1 milimetra głębokości. Prawdopodobnie można by to zrobić u myśliwych – ale może być bardziej trudne niż gotowanie na piekarniku i nie jest gwarancja, że żurki nie są odsłonięte.\\nNastępnie umieść go w piekarniku na dużym tal'"
      ]
     },
     "execution_count": 2,
     "metadata": {},
     "output_type": "execute_result"
    }
   ],
   "source": [
    "res = await krakowiak.invoke(\"Jak ugotować żurek ?\", 1000)\n",
    "res"
   ]
  },
  {
   "cell_type": "code",
   "execution_count": 1,
   "id": "008e53e8-a402-416e-a2a3-ec7cccad5f93",
   "metadata": {},
   "outputs": [],
   "source": [
    "import onceuponai\n",
    "\n",
    "curie = onceuponai.llms.Quantized(\"szymonrucinski/Curie-7B-v1\", \\\n",
    "                              \"file:///home/jovyan/rust-src/Bielik/Curie-7B-v1.Q3_K.gguf\", \\\n",
    "                              \"szymonrucinski/Curie-7B-v1\", \"cuda\")"
   ]
  },
  {
   "cell_type": "code",
   "execution_count": 2,
   "id": "ce30c77a-24a6-4fea-9fde-aff653196984",
   "metadata": {},
   "outputs": [
    {
     "data": {
      "text/plain": [
       "'Prosty i smaczny przepis krok po kroku Jak przyrządzić rosół? Przepis na pysznego, ciepłego obiadu w ogóle nie skomplikowany. Zgodnie z przepisem rosół przyrasta na rozgrzanym opalonym olejem, najpierw grillowany sezonowa wieprzowa karkówka lub rącznik pogryziony do 10 minut, następnie grzyby i marchewki. Na tym bazie przygotowuje się rosół w które można wcześniej dopisać potrawy tzw. na zimno. Zawikł w polskiej kuchni od wieków, a jedynie niedawno powoli wyparły go szpicbordy z ziemi odmiany z jarzyna i plastrą szynkę. Najlepiej rosół przyrządzić na ogniu. Znajduje się w nim wiele smakowitej skóra, ślizg, tłuszczu (bardzo jest go więcej niż w przypadku koncentratu jarzynowego), który podawany na obiadowe danie. Smaczny i niezrównany, a przy okazji po prostu idealnie smakujący. Rosół będący gotowaniną, czyli jedną z największych tradycyjnych potraw w kuchni polskiej, to obiad dla gości oraz rodziny. Można jeść je świeże lub zamrażone. Podobnie jak wiele innych potraw na bazie mięsa, rosół może powstał także z wodnej awokado. Magia tego obiadu polega głównie na tym, że uczta się go cały rok, a nie tylko w okresie jesiennego. Warto więc znać jego proste przepis ze szpinakiem i grzybami, jeśli chcemy zrobić smaczną zupę dla przyjaciół czy członków rodziny. Na podstawie tego pysznego obiadu można podać dodatkowo kotletki, pierogi i ziemniaki. Nie trzeba jednak tylko podawać te potrawy, w garnku tak samo przepisowo mogą się znaleźć kraksy czy kaczka zwyczajna. Wszystko to wskazuje na to że różne brzmienia, i inne smaki są dobrze pokryte tej pysznej babskie wykusu, tak jak i przyzałością. Rosół a koncentrat jarzynowy Jest gotowaniną będącą smacznym obiadem z ziemniaków, marchewki, koźlaka i pory. Wszystkie składniki powstały również w wyniku ugotowania z jednego z produktów. Jeśli inna z tych gotowanin nie jest dostępna to możemy sięgnąć po dodatek, który zawiera surowe mięso i ciągle żywy kłosianiec. Może to być mleczko czy też kwiaty owocowe (polne róże). Rosół ma więc duży zasięg powszechnej przyjemności, a jego przepis nie jest skomplikowany, co powoduje, że naprawdę należy wiedzieć, jak go przyrządzić. Przykładowo na uroczyste obiady można przygotować rosół z kaczki. Jest on bardzo smakowy i cechuje się dużą ilością produktów spożywczych, które to nie wymagają trudnych składników. Potrawa cieszy się szczególną popularnością, a jej podstawowymi składnikami są mięso, ziemniaki i marchewka. M'"
      ]
     },
     "execution_count": 2,
     "metadata": {},
     "output_type": "execute_result"
    }
   ],
   "source": [
    "res = await curie.invoke(\"Jak ugotować rosół ?\", 1000)\n",
    "res"
   ]
  },
  {
   "cell_type": "code",
   "execution_count": 3,
   "id": "adb91b6c-f2be-4a5c-8254-b9b3af6f0ae5",
   "metadata": {},
   "outputs": [],
   "source": [
    "import onceuponai\n",
    "\n",
    "await onceuponai.sleep(2)"
   ]
  },
  {
   "cell_type": "markdown",
   "id": "7d25bea4-1abf-401a-8756-af0e993ecb50",
   "metadata": {
    "editable": true,
    "slideshow": {
     "slide_type": "slide"
    },
    "tags": []
   },
   "source": [
    "## Prepare data"
   ]
  },
  {
   "cell_type": "code",
   "execution_count": null,
   "id": "6cf1553b-8d8d-44fc-92a7-e8e8ca81f752",
   "metadata": {
    "editable": true,
    "slideshow": {
     "slide_type": ""
    },
    "tags": []
   },
   "outputs": [],
   "source": [
    "import yaml\n",
    "from deltalake.writer import write_deltalake\n",
    "import pandas as pd\n",
    "import polars as pl\n",
    "\n",
    "data = yaml.safe_load(open(\"recipes.yaml\", \"r\"))\n",
    "\n",
    "prep={}\n",
    "\n",
    "\n",
    "df = pl.DataFrame(data[\"Recipes\"])\n",
    "df.to_pandas()"
   ]
  },
  {
   "cell_type": "markdown",
   "id": "a2cdd21f-6145-4ac9-a62d-05abf66a8f9d",
   "metadata": {
    "editable": true,
    "slideshow": {
     "slide_type": "slide"
    },
    "tags": []
   },
   "source": [
    "# Embeddings"
   ]
  },
  {
   "cell_type": "code",
   "execution_count": 1,
   "id": "6d1e88ba-8ee2-47bf-8e20-462c662dbd1d",
   "metadata": {
    "editable": true,
    "slideshow": {
     "slide_type": ""
    },
    "tags": []
   },
   "outputs": [],
   "source": [
    "import onceuponai\n",
    "\n",
    "a = onceuponai.embeddings.E5(\"intfloat/multilingual-e5-small\")"
   ]
  },
  {
   "cell_type": "code",
   "execution_count": 2,
   "id": "25ae0faa-b38d-4916-9d47-37687c26b084",
   "metadata": {
    "editable": true,
    "scrolled": true,
    "slideshow": {
     "slide_type": "fragment"
    },
    "tags": []
   },
   "outputs": [
    {
     "data": {
      "text/plain": [
       "[[0.03098888322710991,\n",
       "  -0.01199488528072834,\n",
       "  -0.07422228902578354,\n",
       "  -0.06891388446092606,\n",
       "  0.05637747794389725,\n",
       "  -0.03292524069547653,\n",
       "  0.05126916617155075,\n",
       "  0.03614596650004387,\n",
       "  0.023003606125712395,\n",
       "  0.006733578629791737,\n",
       "  0.034447889775037766,\n",
       "  0.02289721742272377,\n",
       "  0.05806450918316841,\n",
       "  -0.04183975234627724,\n",
       "  -0.02903415448963642,\n",
       "  0.03861762955784798,\n",
       "  0.06157746538519859,\n",
       "  -0.06715274602174759,\n",
       "  -0.038856398314237595,\n",
       "  -0.029826771467924118,\n",
       "  0.039446957409381866,\n",
       "  -0.03411424532532692,\n",
       "  -0.06606124341487885,\n",
       "  0.04624686390161514,\n",
       "  0.05065515637397766,\n",
       "  0.03813409432768822,\n",
       "  -0.0525520034134388,\n",
       "  0.06392091512680054,\n",
       "  0.037307772785425186,\n",
       "  -0.05885927751660347,\n",
       "  -0.05158555135130882,\n",
       "  -0.05430685728788376,\n",
       "  0.03010113537311554,\n",
       "  -0.03858902305364609,\n",
       "  0.05888715386390686,\n",
       "  0.08750040084123611,\n",
       "  -0.02383234351873398,\n",
       "  -0.03985855355858803,\n",
       "  0.0594383180141449,\n",
       "  -0.05335207283496857,\n",
       "  -0.009211460128426552,\n",
       "  0.019977519288659096,\n",
       "  0.020407002419233322,\n",
       "  0.08423376083374023,\n",
       "  0.06883405148983002,\n",
       "  0.047330908477306366,\n",
       "  -0.061303675174713135,\n",
       "  0.04694425314664841,\n",
       "  -0.05726126208901405,\n",
       "  -0.030033757910132408,\n",
       "  -0.06716746836900711,\n",
       "  0.0727739930152893,\n",
       "  0.027486493811011314,\n",
       "  0.05593711510300636,\n",
       "  0.014806382358074188,\n",
       "  -0.051961012184619904,\n",
       "  -0.08778690546751022,\n",
       "  -0.07485675811767578,\n",
       "  -0.049989018589258194,\n",
       "  0.07985980063676834,\n",
       "  0.06435007601976395,\n",
       "  0.026640137657523155,\n",
       "  -0.062251050025224686,\n",
       "  0.00030915881507098675,\n",
       "  0.04063321277499199,\n",
       "  0.04092838615179062,\n",
       "  0.02872210368514061,\n",
       "  0.025399116799235344,\n",
       "  -0.03185431286692619,\n",
       "  -0.006660377141088247,\n",
       "  -0.03655816242098808,\n",
       "  0.016716323792934418,\n",
       "  -0.002845383482053876,\n",
       "  -0.015290575101971626,\n",
       "  0.02457747422158718,\n",
       "  0.011601935140788555,\n",
       "  -0.022829048335552216,\n",
       "  -0.07307534664869308,\n",
       "  0.07179980725049973,\n",
       "  -0.05736129730939865,\n",
       "  -0.04553607851266861,\n",
       "  -0.0760267898440361,\n",
       "  -0.03203459456562996,\n",
       "  0.02296624146401882,\n",
       "  -0.04865699261426926,\n",
       "  0.07123922556638718,\n",
       "  0.029378291219472885,\n",
       "  -0.05652066320180893,\n",
       "  0.02858847752213478,\n",
       "  -0.012025688774883747,\n",
       "  0.08784151077270508,\n",
       "  0.06347142159938812,\n",
       "  -0.10066241770982742,\n",
       "  -0.05698232352733612,\n",
       "  -0.035759951919317245,\n",
       "  -0.06763343513011932,\n",
       "  -0.07084569334983826,\n",
       "  0.04432932287454605,\n",
       "  0.09489991515874863,\n",
       "  -0.02904888056218624,\n",
       "  0.0724758729338646,\n",
       "  -0.06735245138406754,\n",
       "  0.053837742656469345,\n",
       "  -0.07515822350978851,\n",
       "  -0.010412005707621574,\n",
       "  0.026065392419695854,\n",
       "  0.02920798771083355,\n",
       "  -0.04648785665631294,\n",
       "  0.01985650323331356,\n",
       "  -0.0401923730969429,\n",
       "  -0.011903900653123856,\n",
       "  0.042714621871709824,\n",
       "  0.06568005681037903,\n",
       "  0.07082583010196686,\n",
       "  -0.10340918600559235,\n",
       "  0.0007679705158807337,\n",
       "  -0.024760417640209198,\n",
       "  -0.0569867305457592,\n",
       "  0.07138151675462723,\n",
       "  -0.05320889502763748,\n",
       "  0.08972880989313126,\n",
       "  -0.05054859071969986,\n",
       "  -0.04084617272019386,\n",
       "  -0.03941010311245918,\n",
       "  -0.10005761682987213,\n",
       "  -0.032398127019405365,\n",
       "  -0.009673425927758217,\n",
       "  0.03874105215072632,\n",
       "  0.03451169654726982,\n",
       "  0.01735628768801689,\n",
       "  0.07050000876188278,\n",
       "  0.033987198024988174,\n",
       "  0.031320203095674515,\n",
       "  0.05619091913104057,\n",
       "  0.05929271876811981,\n",
       "  0.04561639577150345,\n",
       "  -0.002647032029926777,\n",
       "  0.03840278834104538,\n",
       "  -0.02886267378926277,\n",
       "  -0.03812410682439804,\n",
       "  -0.03302736580371857,\n",
       "  0.06123443692922592,\n",
       "  -0.03374358266592026,\n",
       "  0.018909785896539688,\n",
       "  0.03000493533909321,\n",
       "  0.07407356798648834,\n",
       "  0.08516695350408554,\n",
       "  -0.0022921194322407246,\n",
       "  0.09232722967863083,\n",
       "  -0.02393203228712082,\n",
       "  0.05478885769844055,\n",
       "  -0.014795275405049324,\n",
       "  0.051688309758901596,\n",
       "  0.02613876573741436,\n",
       "  0.017100078985095024,\n",
       "  -0.07023056596517563,\n",
       "  -0.05465228110551834,\n",
       "  -0.0706830769777298,\n",
       "  0.017069393768906593,\n",
       "  0.04124462604522705,\n",
       "  -0.0590510331094265,\n",
       "  -0.0791306123137474,\n",
       "  -0.05667659640312195,\n",
       "  -0.026219643652439117,\n",
       "  -0.08814655989408493,\n",
       "  -0.047550611197948456,\n",
       "  0.032714731991291046,\n",
       "  0.027442485094070435,\n",
       "  -0.049528904259204865,\n",
       "  -0.058220651000738144,\n",
       "  -0.07155933976173401,\n",
       "  0.038788288831710815,\n",
       "  -0.06467939913272858,\n",
       "  0.056617699563503265,\n",
       "  0.006046511232852936,\n",
       "  0.05851062387228012,\n",
       "  -0.03148449957370758,\n",
       "  0.036515962332487106,\n",
       "  0.0864347591996193,\n",
       "  0.002537486143410206,\n",
       "  0.006776374764740467,\n",
       "  -0.008608981966972351,\n",
       "  -0.0850105732679367,\n",
       "  -0.057301029562950134,\n",
       "  -0.07300377637147903,\n",
       "  -0.04630102217197418,\n",
       "  -0.07495534420013428,\n",
       "  0.047075167298316956,\n",
       "  0.033092498779296875,\n",
       "  -0.02192452736198902,\n",
       "  -0.003917103633284569,\n",
       "  0.05796646699309349,\n",
       "  -0.008894660510122776,\n",
       "  -0.04824533686041832,\n",
       "  -0.059526532888412476,\n",
       "  0.024772224947810173,\n",
       "  -0.064699687063694,\n",
       "  0.04748009145259857,\n",
       "  0.05140545591711998,\n",
       "  0.022496214136481285,\n",
       "  -0.0029907531570643187,\n",
       "  -0.07495641708374023,\n",
       "  0.041154902428388596,\n",
       "  0.02962910383939743,\n",
       "  0.056239765137434006,\n",
       "  0.03732576593756676,\n",
       "  -0.0654383972287178,\n",
       "  0.01869826950132847,\n",
       "  -0.03975842148065567,\n",
       "  0.06164973974227905,\n",
       "  0.06383324414491653,\n",
       "  -0.033116936683654785,\n",
       "  -0.12084285169839859,\n",
       "  0.043028347194194794,\n",
       "  -0.07704775035381317,\n",
       "  -0.027020176872611046,\n",
       "  0.0023947192821651697,\n",
       "  0.08034853637218475,\n",
       "  -0.044729914516210556,\n",
       "  0.01914365403354168,\n",
       "  0.05625956505537033,\n",
       "  -0.033299461007118225,\n",
       "  0.0473303347826004,\n",
       "  -0.06852327287197113,\n",
       "  -0.07898947596549988,\n",
       "  0.01833367720246315,\n",
       "  0.027434682473540306,\n",
       "  -0.06088900938630104,\n",
       "  -0.040436990559101105,\n",
       "  0.02390037663280964,\n",
       "  -0.05016687884926796,\n",
       "  -0.02564573474228382,\n",
       "  -0.07169535756111145,\n",
       "  -0.05785584822297096,\n",
       "  -0.054732777178287506,\n",
       "  -0.07377012819051743,\n",
       "  -2.5672707124613225e-05,\n",
       "  0.02910851128399372,\n",
       "  0.04631372168660164,\n",
       "  -0.07342302054166794,\n",
       "  -0.013460563495755196,\n",
       "  -0.032211221754550934,\n",
       "  0.03384010121226311,\n",
       "  -0.08919133245944977,\n",
       "  0.05465143546462059,\n",
       "  -0.028632182627916336,\n",
       "  -0.04130604863166809,\n",
       "  0.04555824026465416,\n",
       "  -0.003573308466002345,\n",
       "  0.06613688170909882,\n",
       "  -0.0069796303287148476,\n",
       "  -0.03816495090723038,\n",
       "  -0.058030858635902405,\n",
       "  -0.08231613039970398,\n",
       "  -0.043415047228336334,\n",
       "  0.017312202602624893,\n",
       "  0.06732005625963211,\n",
       "  0.033586498349905014,\n",
       "  -0.07151561230421066,\n",
       "  0.026601633056998253,\n",
       "  0.05552215874195099,\n",
       "  -0.015187560580670834,\n",
       "  0.11622469872236252,\n",
       "  0.03726104274392128,\n",
       "  0.05335402488708496,\n",
       "  0.03917427733540535,\n",
       "  -0.050546348094940186,\n",
       "  -0.0043519651517271996,\n",
       "  -0.02923888899385929,\n",
       "  0.008775709196925163,\n",
       "  -0.03910411149263382,\n",
       "  -0.007767511066049337,\n",
       "  0.06555613875389099,\n",
       "  -0.06386425346136093,\n",
       "  -0.04791843891143799,\n",
       "  -0.08395563811063766,\n",
       "  0.0869956836104393,\n",
       "  0.09504210948944092,\n",
       "  -0.09399791806936264,\n",
       "  -0.032561346888542175,\n",
       "  0.02193111553788185,\n",
       "  0.014437198638916016,\n",
       "  0.08630170673131943,\n",
       "  0.08505183458328247,\n",
       "  0.042316973209381104,\n",
       "  -0.057219505310058594,\n",
       "  -0.016638904809951782,\n",
       "  0.06448168307542801,\n",
       "  -0.07106734812259674,\n",
       "  0.008837837725877762,\n",
       "  -0.02424371987581253,\n",
       "  -0.04467315971851349,\n",
       "  0.058940716087818146,\n",
       "  -0.06014557555317879,\n",
       "  0.09081733226776123,\n",
       "  0.03137344494462013,\n",
       "  0.009534219279885292,\n",
       "  0.07445596158504486,\n",
       "  -0.06392284482717514,\n",
       "  0.06062726676464081,\n",
       "  -0.03051343932747841,\n",
       "  -0.041032932698726654,\n",
       "  0.02948644571006298,\n",
       "  0.021994169801473618,\n",
       "  -0.04341660439968109,\n",
       "  0.06892284750938416,\n",
       "  0.003065898083150387,\n",
       "  0.0439717099070549,\n",
       "  0.040875017642974854,\n",
       "  0.04052519425749779,\n",
       "  0.056802961975336075,\n",
       "  0.05088465288281441,\n",
       "  -0.03838514909148216,\n",
       "  -0.054692476987838745,\n",
       "  0.02589738927781582,\n",
       "  0.05005916953086853,\n",
       "  -0.01790689118206501,\n",
       "  -0.03737382963299751,\n",
       "  -0.03750526160001755,\n",
       "  -0.03033457323908806,\n",
       "  -0.03877246379852295,\n",
       "  -0.042360469698905945,\n",
       "  -0.03874919191002846,\n",
       "  -0.053297046571969986,\n",
       "  0.061480551958084106,\n",
       "  0.03021267056465149,\n",
       "  -0.07359978556632996,\n",
       "  -0.0329754576086998,\n",
       "  0.05531449243426323,\n",
       "  -0.04706525057554245,\n",
       "  0.02593795582652092,\n",
       "  -0.0435808002948761,\n",
       "  -0.050741083920001984,\n",
       "  0.0443197563290596,\n",
       "  -0.05631502717733383,\n",
       "  0.008492597378790379,\n",
       "  -0.0217019934207201,\n",
       "  0.05564872920513153,\n",
       "  -0.032447416335344315,\n",
       "  -0.04695407301187515,\n",
       "  0.030028698965907097,\n",
       "  0.04532789811491966,\n",
       "  -0.04678068310022354,\n",
       "  0.06274300813674927,\n",
       "  -0.05272040516138077,\n",
       "  -0.05318904295563698,\n",
       "  0.03261397033929825,\n",
       "  -0.028754543513059616,\n",
       "  -0.06355223059654236,\n",
       "  0.04045139253139496,\n",
       "  0.031037569046020508,\n",
       "  -0.06973251700401306,\n",
       "  -0.004870924167335033,\n",
       "  0.09658879786729813,\n",
       "  -0.0011720267357304692,\n",
       "  0.036454468965530396,\n",
       "  -0.09645318239927292,\n",
       "  0.0011774745071306825,\n",
       "  0.01685529388487339,\n",
       "  0.06700704246759415,\n",
       "  -0.059632521122694016,\n",
       "  0.003428915049880743,\n",
       "  0.05040029063820839,\n",
       "  0.05306801572442055,\n",
       "  0.08064373582601547,\n",
       "  0.06987188756465912,\n",
       "  -0.03279872611165047,\n",
       "  -0.013264412991702557,\n",
       "  0.06763070821762085,\n",
       "  -0.04129330813884735,\n",
       "  0.04042305052280426,\n",
       "  0.035562921315431595,\n",
       "  -0.0288028996437788,\n",
       "  -0.016507109627127647,\n",
       "  -0.03112899512052536,\n",
       "  -0.07549306005239487,\n",
       "  -0.03902757540345192,\n",
       "  0.0339060053229332,\n",
       "  -0.04190528020262718,\n",
       "  -0.011755933053791523,\n",
       "  0.07399193197488785,\n",
       "  0.0814751535654068,\n",
       "  0.04654935374855995,\n",
       "  0.027624990791082382]]"
      ]
     },
     "execution_count": 2,
     "metadata": {},
     "output_type": "execute_result"
    }
   ],
   "source": [
    "a.embed([\"witaj przygodo\"])"
   ]
  },
  {
   "cell_type": "code",
   "execution_count": null,
   "id": "75152546-fd90-44e1-a0b4-cdbf95e76603",
   "metadata": {
    "editable": true,
    "scrolled": true,
    "slideshow": {
     "slide_type": "slide"
    },
    "tags": []
   },
   "outputs": [],
   "source": [
    "items = []\n",
    "for combined_text in df['Recipe']:\n",
    "    emb = a.embed([combined_text])\n",
    "    items.append({\"item\": combined_text, \"vector\": emb[0]})\n",
    "\n",
    "items"
   ]
  },
  {
   "cell_type": "markdown",
   "id": "08d7f0b3-ea5f-4931-b127-66db2f7d7190",
   "metadata": {
    "editable": true,
    "slideshow": {
     "slide_type": "skip"
    },
    "tags": []
   },
   "source": [
    "# Fake words"
   ]
  },
  {
   "cell_type": "code",
   "execution_count": null,
   "id": "d3fc16c3-cecc-4252-9bf7-d2bea06e841d",
   "metadata": {
    "editable": true,
    "slideshow": {
     "slide_type": "slide"
    },
    "tags": []
   },
   "outputs": [],
   "source": [
    "import random\n",
    "\n",
    "subjects = [\n",
    "    \"The mischievous squirrel\", \"The colorful birds\", \"The playful puppies\", \n",
    "    \"The dedicated teacher\", \"The curious boy\", \"The brilliant inventor\", \"Girl\", \"Cat\", \"Mouse\", \"Dog\"\n",
    "]\n",
    "\n",
    "verbs = [\n",
    "    \"danced\", \"explored\", \"built\", \"discovered\", \"imagined\", \n",
    "    \"sang\", \"cooked\", \"programmed\",\"run\", \"sing\", \"walk\", \n",
    "]\n",
    "\n",
    "objects = [\"the sandwich\", \"a brilliant app\", \"over the fence\", \"a beautiful song\", \"in the sky\"]\n",
    "\n",
    "for i in range(300):\n",
    "    phrase = random.choice(subjects) + \" \" + random.choice(verbs) + \" \" + random.choice(objects)\n",
    "    emb = a.embeddings([phrase])\n",
    "    items.append({\"item\": phrase, \"vector\": emb[0]})"
   ]
  },
  {
   "cell_type": "markdown",
   "id": "edd93d26-5894-4fa1-b0be-5fc6227d7c26",
   "metadata": {
    "editable": true,
    "slideshow": {
     "slide_type": "slide"
    },
    "tags": []
   },
   "source": [
    "# Lance DB"
   ]
  },
  {
   "cell_type": "code",
   "execution_count": null,
   "id": "982fc86c-695c-4e6c-9663-f6fb08347b0f",
   "metadata": {
    "editable": true,
    "scrolled": true,
    "slideshow": {
     "slide_type": ""
    },
    "tags": []
   },
   "outputs": [],
   "source": [
    "import os\n",
    "import getpass\n",
    "\n",
    "print(\"ACCOUNT NAME\")\n",
    "os.environ[\"AZURE_STORAGE_ACCOUNT_NAME\"]=getpass.getpass()\n",
    "\n",
    "print(\"ACCOUNT KEY\")\n",
    "os.environ[\"AZURE_STORAGE_ACCOUNT_KEY\"]=getpass.getpass()"
   ]
  },
  {
   "cell_type": "code",
   "execution_count": null,
   "id": "9019bbde-6f6d-433c-a233-933b97d47c1d",
   "metadata": {
    "editable": true,
    "slideshow": {
     "slide_type": "fragment"
    },
    "tags": []
   },
   "outputs": [],
   "source": [
    "import lancedb\n",
    "\n",
    "db = await lancedb.connect_async(\"az://recipesv2/vectors2\")\n",
    "tbl = await db.create_table(\"recipes_vectors\", data=items)"
   ]
  },
  {
   "cell_type": "code",
   "execution_count": null,
   "id": "538463f3-a8ee-4067-ab01-29e95b635df9",
   "metadata": {
    "editable": true,
    "scrolled": true,
    "slideshow": {
     "slide_type": "fragment"
    },
    "tags": []
   },
   "outputs": [],
   "source": [
    "res = await tbl.create_index(\"vector\")"
   ]
  },
  {
   "cell_type": "markdown",
   "id": "d9041394-d5c5-437d-bbcb-6949df8e3ebf",
   "metadata": {
    "editable": true,
    "slideshow": {
     "slide_type": "slide"
    },
    "tags": []
   },
   "source": [
    "# Search"
   ]
  },
  {
   "cell_type": "code",
   "execution_count": 6,
   "id": "4349416f-d45c-4f2e-bb61-6ce15e76b96a",
   "metadata": {
    "editable": true,
    "scrolled": true,
    "slideshow": {
     "slide_type": ""
    },
    "tags": []
   },
   "outputs": [
    {
     "data": {
      "text/html": [
       "<div>\n",
       "<style scoped>\n",
       "    .dataframe tbody tr th:only-of-type {\n",
       "        vertical-align: middle;\n",
       "    }\n",
       "\n",
       "    .dataframe tbody tr th {\n",
       "        vertical-align: top;\n",
       "    }\n",
       "\n",
       "    .dataframe thead th {\n",
       "        text-align: right;\n",
       "    }\n",
       "</style>\n",
       "<table border=\"1\" class=\"dataframe\">\n",
       "  <thead>\n",
       "    <tr style=\"text-align: right;\">\n",
       "      <th></th>\n",
       "      <th>item</th>\n",
       "      <th>vector</th>\n",
       "      <th>_distance</th>\n",
       "    </tr>\n",
       "  </thead>\n",
       "  <tbody>\n",
       "    <tr>\n",
       "      <th>0</th>\n",
       "      <td>Jak gotować żurek staropolski z jajkiem i biał...</td>\n",
       "      <td>[0.03319656, -0.016286198, -0.041886758, -0.05...</td>\n",
       "      <td>0.282364</td>\n",
       "    </tr>\n",
       "  </tbody>\n",
       "</table>\n",
       "</div>"
      ],
      "text/plain": [
       "                                                item  \\\n",
       "0  Jak gotować żurek staropolski z jajkiem i biał...   \n",
       "\n",
       "                                              vector  _distance  \n",
       "0  [0.03319656, -0.016286198, -0.041886758, -0.05...   0.282364  "
      ]
     },
     "execution_count": 6,
     "metadata": {},
     "output_type": "execute_result"
    }
   ],
   "source": [
    "import lancedb\n",
    "\n",
    "emb = a.embed([\"Chciałbym zrobić żurek\"])\n",
    "db = await lancedb.connect_async(\"az://recipesv2/vectors2\")\n",
    "tbl = await db.open_table(\"recipes_vectors\")\n",
    "res = await tbl.query().nearest_to(emb[0]).limit(1).to_pandas()\n",
    "res"
   ]
  },
  {
   "cell_type": "code",
   "execution_count": 22,
   "id": "ae4161c9-b541-4e8e-8053-71a714cbad31",
   "metadata": {},
   "outputs": [],
   "source": [
    "import lancedb\n",
    "\n",
    "db = await lancedb.connect_async(\"az://recipesv2/vectors2\")\n",
    "tbl = await db.open_table(\"recipes_vectors\")\n",
    "template = \"\"\"[INST]Skorzystaj z poniższych fragmentów kontekstu, aby odpowiedzieć na pytanie na końcu. \n",
    "Jeśli nie znasz odpowiedzi, po prostu powiedz, że nie wiesz, nie próbuj wymyślać odpowiedzi. \n",
    "\n",
    "Kontekst: \n",
    "{context}\n",
    "\n",
    "Pytanie:\n",
    "{question}[/INST]\"\"\"\n",
    "\n",
    "async def chat(lancedb_table, prompt_template, embedding_model, llm_model, prompt):\n",
    "    emb = embedding_model.embed([prompt])\n",
    "    res = await lancedb_table.query().nearest_to(emb[0]).limit(1).to_pandas()\n",
    "    context = res.to_dict()[\"item\"][0]\n",
    "    prompt = prompt_template.replace(\"{context}\", context).replace(\"{question}\", prompt)\n",
    "    return await llm_model.invoke(prompt, 1000)\n",
    "    "
   ]
  },
  {
   "cell_type": "code",
   "execution_count": 26,
   "id": "30f9ef44-c364-468c-a5e0-bb3e7ed019f7",
   "metadata": {},
   "outputs": [
    {
     "data": {
      "text/plain": [
       "' Aby ugotować żurek staropolski, zacznij od przygotowania zakwasu na trzy dni przed świętem. Następnie gotuj kości wieprzowe lub wędzonkę dla gęstości smaku w garze razem z korzeniami i wodą. Przygotuj oddzielnie białą kiełbasę, aż będzie miękka, przecedź wywar i wrzuć do niego zakwas. Przypraw zupę solą, majerankiem, i czosnkiem. Przed podaniem dodać pokrojone kiełbaski, jajka ugotowane na twardo i posypać świeżym majerankiem. Serwuj go w glinianych misach z chlebem razowym obok do zanurzania.'"
      ]
     },
     "execution_count": 26,
     "metadata": {},
     "output_type": "execute_result"
    }
   ],
   "source": [
    "await chat(tbl, template, a, bielik, \"Jak ugotować żurek ?\")"
   ]
  },
  {
   "cell_type": "code",
   "execution_count": 24,
   "id": "a7cb4762-d90e-4bf2-a19f-c55f055b5282",
   "metadata": {},
   "outputs": [
    {
     "data": {
      "text/plain": [
       "' 200°C'"
      ]
     },
     "execution_count": 24,
     "metadata": {},
     "output_type": "execute_result"
    }
   ],
   "source": [
    "await chat(tbl, template, a, bielik, \"W jakiej temperaturze należy piec rybę ?\")"
   ]
  },
  {
   "cell_type": "code",
   "execution_count": 25,
   "id": "34d59e12-3f62-425d-961e-9faa3b78d744",
   "metadata": {},
   "outputs": [
    {
     "data": {
      "text/plain": [
       "' 1,5 do 2 godzin'"
      ]
     },
     "execution_count": 25,
     "metadata": {},
     "output_type": "execute_result"
    }
   ],
   "source": [
    "await chat(tbl, template, a, bielik, \"Ile czasu trzeba piec kaczkę ?\")"
   ]
  }
 ],
 "metadata": {
  "kernelspec": {
   "display_name": "Python 3 (ipykernel)",
   "language": "python",
   "name": "python3"
  },
  "language_info": {
   "codemirror_mode": {
    "name": "ipython",
    "version": 3
   },
   "file_extension": ".py",
   "mimetype": "text/x-python",
   "name": "python",
   "nbconvert_exporter": "python",
   "pygments_lexer": "ipython3",
   "version": "3.10.12"
  }
 },
 "nbformat": 4,
 "nbformat_minor": 5
}
